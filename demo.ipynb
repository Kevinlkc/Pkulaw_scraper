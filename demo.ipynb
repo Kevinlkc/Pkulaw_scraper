{
 "cells": [
  {
   "cell_type": "code",
   "execution_count": 1,
   "source": [
    "import pandas as pd\n",
    "from wrappers import *\n",
    "import os\n",
    "from bs4 import BeautifulSoup\n",
    "import zipfile\n",
    "import shutil\n",
    "import requests\n",
    "import json"
   ],
   "outputs": [],
   "metadata": {}
  },
  {
   "cell_type": "code",
   "execution_count": 2,
   "source": [
    "\"\"\"\n",
    "Demo for central library scraping\n",
    "\"\"\"\n",
    "from updated_scraper import *\n",
    "s = PkuScraper()\n",
    "\n",
    "# Important:\n",
    "# After you log in with Chrome, with VPN on and pkulaw signed in, right click anywhere on the page and direct to \"Inspect\", find \"Network\", zoom into one event, and paste the Cookie here\n",
    "s.set_input_type('keyword')\n",
    "s.set_cookies('pkulaw_v6_sessionid=qm4iqggkoktau3szdek4bfie; Hm_lvt_8266968662c086f34b2a3e2ae9014bf8=1630066629,1631060463; authormes=5f8e703755203640a7baa1c56e09ce5616c7268dca732f3b39028526dff6560a10f8eedcbd05b937bdfb; xCloseNew=25; TKMessage=YAfPC0z71+dAP6IuGWuNiRH0v+qdVzh+B1gzi7v+4HpzrjkqxpCE182DCs3h6rArIK5FdodPwnXrv3F4oUTIaxdAVfE5YNjdtOkOMEKd+Zi07VY7nN1ZJ1+/4UODddYR3bG+72Wm7sXKd5oOAjquTO5ZJpx01f8Q2jJRANmZ0+AJVtLDktc17eMfPKswBebq4EKW82+y0EmTGAMQa8fTLI3/q7euD4QTBsC1wAc6oR0tnuaXg+5iMMiz49VBXFQ2; Hm_lpvt_8266968662c086f34b2a3e2ae9014bf8=1632582141')\n",
    "s.library = 'lar' # lar: library for local govt documents. chl: library for central documents\n",
    "s.set_filters(lib_='lar', type_=['unspecified'], dept_=['unspecified'], effective_=['unspecified']) # For other choices please refer to the code\n"
   ],
   "outputs": [],
   "metadata": {}
  },
  {
   "cell_type": "code",
   "execution_count": 3,
   "source": [
    "s.edit_postform({'Aggs.Category': '001', 'library': 'lar', 'Aggs.IssueDate': '2021'})\n",
    "soup = s.search_page_V6('', _debug=True)\n",
    "int(soup.find(\"span\" ,class_=\"total\").find('strong').text)"
   ],
   "outputs": [
    {
     "output_type": "execute_result",
     "data": {
      "text/plain": [
       "269"
      ]
     },
     "metadata": {},
     "execution_count": 3
    }
   ],
   "metadata": {}
  },
  {
   "cell_type": "code",
   "execution_count": 4,
   "source": [
    "# First, we would need to get a list of id's for more advanced searching\n",
    "temp = s.get_locality_id()\n",
    "\n",
    "jsonString = temp.text.replace('\\r', '').replace('\\n', '')\n",
    "dict_list = json.loads(jsonString)\n",
    "\n",
    "pd.DataFrame(dict_list).to_excel('/Users/kevin/Dropbox/Pkulaw_scraper/dept_id_name.xlsx', index=False)"
   ],
   "outputs": [],
   "metadata": {}
  },
  {
   "cell_type": "code",
   "execution_count": 4,
   "source": [
    "df = pd.read_excel('/Users/kevin/Dropbox/Pkulaw_scraper/dept_id_name.xlsx')\n",
    "\n",
    "def MyInt(x):\n",
    "    try:\n",
    "        return int(x)\n",
    "    except:\n",
    "        return -8888\n",
    "\n",
    "df.id = df.id.apply(lambda x: MyInt(x))\n",
    "df = df[(df.id > 1e4) & (df.id < 1e5)]"
   ],
   "outputs": [],
   "metadata": {}
  },
  {
   "cell_type": "code",
   "execution_count": 6,
   "source": [
    "# We're going to do the searches by prefecture / year, and collect all its corresponding category info\n",
    "for year in range(1990, 2020):\n",
    "    for id_ in df.id.unique():\n",
    "        temp = r'{\"RelatedPrompted\":\"\",\"EffectivenessDic\":\"\",\"SpecialType\":\"\",\"IssueDepartment\":'+str(id_)+r',\"TimelinessDic\":\"\",\"Category\":\"\",\"IssueDate\":\"'+str(year)+'\"}'\n",
    "        s.edit_postform({'Aggs': temp})\n",
    "        temp = s.get_category_dist(_debug=True)\n",
    "        jsonString = temp.text.replace(r'\\r', '').replace(r'\\n', '')\n",
    "        dict_list = json.loads(jsonString)\n",
    "        pd.DataFrame(dict_list).to_excel('/Users/kevin/Dropbox/Pkulaw_scraper/data/'+str(id_)+'_'+str(year)+'.xlsx', index=False)\n",
    "        time.sleep(1)"
   ],
   "outputs": [],
   "metadata": {}
  },
  {
   "cell_type": "code",
   "execution_count": null,
   "source": [
    "\n",
    "# One first thing we can do is to simulate the searching process:\n",
    "print(s.search_page_V6('证照分离'))\n",
    "# It will return a list where one of the sublists document the titles, one document the urls, and the other the id's\n",
    "\n",
    "# Once you get a url, we can get the full text of the paper from this function call\n",
    "print(s.decode_page_v6(r\"https://www.pkulaw.com/chl/7e71a76b28fb96efbdfb.html?keyword=%E8%AF%95%E7%82%B9\"))\n",
    "# It returns a Soup object containing the texts of documents\n",
    "\n",
    "# If we don't want to visit the website repeatedly for those documents, we can download them once and for all.\n",
    "s.set_ouput_directory(r'/Users/kevin/Desktop/temp.zip')\n",
    "s.download('f3c7b1f7db0795fcbdfb,69425ff77e3fd798bdfb,a8decc3fc18fb591bdfb,2c8dfe7452186879bdfb,78c556b1def5fb57bdfb,87899185ab4ffaadbdfb')"
   ],
   "outputs": [],
   "metadata": {}
  },
  {
   "cell_type": "code",
   "execution_count": 8,
   "source": [
    "# You might also want to unzip the documents you downloaded.\n",
    "def un_zip(file_name):\n",
    "    # unzip zip file\n",
    "    if not file_name.endswith('.zip'):\n",
    "        return\n",
    "    zip_file = zipfile.ZipFile(file_name)\n",
    "    if os.path.isdir(file_name + \"_files\"):\n",
    "        pass\n",
    "    else:\n",
    "        os.mkdir(file_name + \"_files\")\n",
    "    for names in zip_file.namelist():\n",
    "        try:\n",
    "            zip_file.extract(names, file_name + r\"_files/\")\n",
    "        except:\n",
    "            pass\n",
    "    zip_file.close()"
   ],
   "outputs": [],
   "metadata": {}
  },
  {
   "cell_type": "code",
   "execution_count": 30,
   "source": [
    "\n",
    "raise ValueError\n",
    "# ===========================================================\n",
    "# DO NOT RUN: Some sample code for reference (how to unzip)\n",
    "# Init Dirs\n",
    "src_path = '/Users/kevin/Desktop/tmp.zip_files/'\n",
    "dest_path = '/Users/kevin/Dropbox/Policy Experimentation/Data/Raw Webpages/Local/'\n",
    "zip_path = '/Users/kevin/Desktop/tmp.zip'\n",
    "\n",
    "counter = 0\n",
    "maxlen = df_local.shape[0]\n",
    "while counter < maxlen:\n",
    "    download(','.join(df_local['gid'][counter:counter+10]))\n",
    "    un_zip(zip_path)\n",
    "    file_list = os.listdir(src_path)\n",
    "    if len(file_list) > 0:\n",
    "        for file in file_list:\n",
    "            counter += 1\n",
    "            #time.sleep(1)\n",
    "            if counter % 100 == 0:\n",
    "                print('Progress:', counter)\n",
    "                time.sleep(20)\n",
    "            try:\n",
    "                # unzip and move directory\n",
    "                os.rename(src_path+file, src_path + str(counter) + '.html')\n",
    "                shutil.move(src_path + str(counter) + '.html', dest_path + str(counter) + '.html')\n",
    "            except:\n",
    "                pass\n",
    "# ===========================================================    "
   ],
   "outputs": [
    {
     "output_type": "error",
     "ename": "BadZipFile",
     "evalue": "File is not a zip file",
     "traceback": [
      "\u001b[1;31m---------------------------------------------------------------------------\u001b[0m",
      "\u001b[1;31mBadZipFile\u001b[0m                                Traceback (most recent call last)",
      "\u001b[1;32m<ipython-input-30-116ff246979c>\u001b[0m in \u001b[0;36m<module>\u001b[1;34m\u001b[0m\n\u001b[0;32m     17\u001b[0m \u001b[1;32mwhile\u001b[0m \u001b[0mcounter\u001b[0m \u001b[1;33m<\u001b[0m \u001b[0mmaxlen\u001b[0m\u001b[1;33m:\u001b[0m\u001b[1;33m\u001b[0m\u001b[1;33m\u001b[0m\u001b[0m\n\u001b[0;32m     18\u001b[0m     \u001b[0mdownload\u001b[0m\u001b[1;33m(\u001b[0m\u001b[1;34m','\u001b[0m\u001b[1;33m.\u001b[0m\u001b[0mjoin\u001b[0m\u001b[1;33m(\u001b[0m\u001b[0mdf_local\u001b[0m\u001b[1;33m[\u001b[0m\u001b[1;34m'gid'\u001b[0m\u001b[1;33m]\u001b[0m\u001b[1;33m[\u001b[0m\u001b[0mcounter\u001b[0m\u001b[1;33m:\u001b[0m\u001b[0mcounter\u001b[0m\u001b[1;33m+\u001b[0m\u001b[1;36m10\u001b[0m\u001b[1;33m]\u001b[0m\u001b[1;33m)\u001b[0m\u001b[1;33m)\u001b[0m\u001b[1;33m\u001b[0m\u001b[1;33m\u001b[0m\u001b[0m\n\u001b[1;32m---> 19\u001b[1;33m     \u001b[0mun_zip\u001b[0m\u001b[1;33m(\u001b[0m\u001b[0mzip_path\u001b[0m\u001b[1;33m)\u001b[0m\u001b[1;33m\u001b[0m\u001b[1;33m\u001b[0m\u001b[0m\n\u001b[0m\u001b[0;32m     20\u001b[0m     \u001b[0mfile_list\u001b[0m \u001b[1;33m=\u001b[0m \u001b[0mos\u001b[0m\u001b[1;33m.\u001b[0m\u001b[0mlistdir\u001b[0m\u001b[1;33m(\u001b[0m\u001b[0msrc_path\u001b[0m\u001b[1;33m)\u001b[0m\u001b[1;33m\u001b[0m\u001b[1;33m\u001b[0m\u001b[0m\n\u001b[0;32m     21\u001b[0m     \u001b[1;32mif\u001b[0m \u001b[0mlen\u001b[0m\u001b[1;33m(\u001b[0m\u001b[0mfile_list\u001b[0m\u001b[1;33m)\u001b[0m \u001b[1;33m>\u001b[0m \u001b[1;36m0\u001b[0m\u001b[1;33m:\u001b[0m\u001b[1;33m\u001b[0m\u001b[1;33m\u001b[0m\u001b[0m\n",
      "\u001b[1;32m<ipython-input-29-256f3c9783c5>\u001b[0m in \u001b[0;36mun_zip\u001b[1;34m(file_name)\u001b[0m\n\u001b[0;32m      3\u001b[0m     \u001b[1;32mif\u001b[0m \u001b[1;32mnot\u001b[0m \u001b[0mfile_name\u001b[0m\u001b[1;33m.\u001b[0m\u001b[0mendswith\u001b[0m\u001b[1;33m(\u001b[0m\u001b[1;34m'.zip'\u001b[0m\u001b[1;33m)\u001b[0m\u001b[1;33m:\u001b[0m\u001b[1;33m\u001b[0m\u001b[1;33m\u001b[0m\u001b[0m\n\u001b[0;32m      4\u001b[0m         \u001b[1;32mreturn\u001b[0m\u001b[1;33m\u001b[0m\u001b[1;33m\u001b[0m\u001b[0m\n\u001b[1;32m----> 5\u001b[1;33m     \u001b[0mzip_file\u001b[0m \u001b[1;33m=\u001b[0m \u001b[0mzipfile\u001b[0m\u001b[1;33m.\u001b[0m\u001b[0mZipFile\u001b[0m\u001b[1;33m(\u001b[0m\u001b[0mfile_name\u001b[0m\u001b[1;33m)\u001b[0m\u001b[1;33m\u001b[0m\u001b[1;33m\u001b[0m\u001b[0m\n\u001b[0m\u001b[0;32m      6\u001b[0m     \u001b[1;32mif\u001b[0m \u001b[0mos\u001b[0m\u001b[1;33m.\u001b[0m\u001b[0mpath\u001b[0m\u001b[1;33m.\u001b[0m\u001b[0misdir\u001b[0m\u001b[1;33m(\u001b[0m\u001b[0mfile_name\u001b[0m \u001b[1;33m+\u001b[0m \u001b[1;34m\"_files\"\u001b[0m\u001b[1;33m)\u001b[0m\u001b[1;33m:\u001b[0m\u001b[1;33m\u001b[0m\u001b[1;33m\u001b[0m\u001b[0m\n\u001b[0;32m      7\u001b[0m         \u001b[1;32mpass\u001b[0m\u001b[1;33m\u001b[0m\u001b[1;33m\u001b[0m\u001b[0m\n",
      "\u001b[1;32m~\\anaconda3\\lib\\zipfile.py\u001b[0m in \u001b[0;36m__init__\u001b[1;34m(self, file, mode, compression, allowZip64, compresslevel, strict_timestamps)\u001b[0m\n\u001b[0;32m   1266\u001b[0m         \u001b[1;32mtry\u001b[0m\u001b[1;33m:\u001b[0m\u001b[1;33m\u001b[0m\u001b[1;33m\u001b[0m\u001b[0m\n\u001b[0;32m   1267\u001b[0m             \u001b[1;32mif\u001b[0m \u001b[0mmode\u001b[0m \u001b[1;33m==\u001b[0m \u001b[1;34m'r'\u001b[0m\u001b[1;33m:\u001b[0m\u001b[1;33m\u001b[0m\u001b[1;33m\u001b[0m\u001b[0m\n\u001b[1;32m-> 1268\u001b[1;33m                 \u001b[0mself\u001b[0m\u001b[1;33m.\u001b[0m\u001b[0m_RealGetContents\u001b[0m\u001b[1;33m(\u001b[0m\u001b[1;33m)\u001b[0m\u001b[1;33m\u001b[0m\u001b[1;33m\u001b[0m\u001b[0m\n\u001b[0m\u001b[0;32m   1269\u001b[0m             \u001b[1;32melif\u001b[0m \u001b[0mmode\u001b[0m \u001b[1;32min\u001b[0m \u001b[1;33m(\u001b[0m\u001b[1;34m'w'\u001b[0m\u001b[1;33m,\u001b[0m \u001b[1;34m'x'\u001b[0m\u001b[1;33m)\u001b[0m\u001b[1;33m:\u001b[0m\u001b[1;33m\u001b[0m\u001b[1;33m\u001b[0m\u001b[0m\n\u001b[0;32m   1270\u001b[0m                 \u001b[1;31m# set the modified flag so central directory gets written\u001b[0m\u001b[1;33m\u001b[0m\u001b[1;33m\u001b[0m\u001b[1;33m\u001b[0m\u001b[0m\n",
      "\u001b[1;32m~\\anaconda3\\lib\\zipfile.py\u001b[0m in \u001b[0;36m_RealGetContents\u001b[1;34m(self)\u001b[0m\n\u001b[0;32m   1333\u001b[0m             \u001b[1;32mraise\u001b[0m \u001b[0mBadZipFile\u001b[0m\u001b[1;33m(\u001b[0m\u001b[1;34m\"File is not a zip file\"\u001b[0m\u001b[1;33m)\u001b[0m\u001b[1;33m\u001b[0m\u001b[1;33m\u001b[0m\u001b[0m\n\u001b[0;32m   1334\u001b[0m         \u001b[1;32mif\u001b[0m \u001b[1;32mnot\u001b[0m \u001b[0mendrec\u001b[0m\u001b[1;33m:\u001b[0m\u001b[1;33m\u001b[0m\u001b[1;33m\u001b[0m\u001b[0m\n\u001b[1;32m-> 1335\u001b[1;33m             \u001b[1;32mraise\u001b[0m \u001b[0mBadZipFile\u001b[0m\u001b[1;33m(\u001b[0m\u001b[1;34m\"File is not a zip file\"\u001b[0m\u001b[1;33m)\u001b[0m\u001b[1;33m\u001b[0m\u001b[1;33m\u001b[0m\u001b[0m\n\u001b[0m\u001b[0;32m   1336\u001b[0m         \u001b[1;32mif\u001b[0m \u001b[0mself\u001b[0m\u001b[1;33m.\u001b[0m\u001b[0mdebug\u001b[0m \u001b[1;33m>\u001b[0m \u001b[1;36m1\u001b[0m\u001b[1;33m:\u001b[0m\u001b[1;33m\u001b[0m\u001b[1;33m\u001b[0m\u001b[0m\n\u001b[0;32m   1337\u001b[0m             \u001b[0mprint\u001b[0m\u001b[1;33m(\u001b[0m\u001b[0mendrec\u001b[0m\u001b[1;33m)\u001b[0m\u001b[1;33m\u001b[0m\u001b[1;33m\u001b[0m\u001b[0m\n",
      "\u001b[1;31mBadZipFile\u001b[0m: File is not a zip file"
     ]
    }
   ],
   "metadata": {}
  }
 ],
 "metadata": {
  "kernelspec": {
   "name": "python3",
   "display_name": "Python 3.7.4 64-bit ('base': conda)"
  },
  "language_info": {
   "codemirror_mode": {
    "name": "ipython",
    "version": 3
   },
   "file_extension": ".py",
   "mimetype": "text/x-python",
   "name": "python",
   "nbconvert_exporter": "python",
   "pygments_lexer": "ipython3",
   "version": "3.7.4"
  },
  "interpreter": {
   "hash": "dca0ade3e726a953b501b15e8e990130d2b7799f14cfd9f4271676035ebe5511"
  }
 },
 "nbformat": 4,
 "nbformat_minor": 1
}